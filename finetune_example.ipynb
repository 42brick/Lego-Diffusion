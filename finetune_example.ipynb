{
 "cells": [
  {
   "cell_type": "markdown",
   "id": "5de94707",
   "metadata": {},
   "source": [
    "## FineTuning Stable-Diffusion  \n",
    "Fine Tuning Stable Diffusion on Any Data.\n",
    "We recommended using multi-GPU. But if you have just only 1 GPU, VRAM will be at least 24GB(1 RTX 3090 will not be enough, so do I). It can run on Colab Pro or Pro+"
   ]
  },
  {
   "cell_type": "code",
   "execution_count": null,
   "id": "4abaeb13",
   "metadata": {},
   "outputs": [],
   "source": [
    "!pip install huggingface_hub\n",
    "!git clone https://github.com/42brick/Lego-Diffusion.git\n",
    "!mkdir -p ./Lego-Diffusion/models/ldm/stable-diffusion-v1\n",
    "\n",
    "%cd Lego-diffusion\n",
    "!pip install --upgrade pip\n",
    "!pip install -r requirements.txt\n",
    "\n",
    "# if colab, torchtext module might get error. run these code\n",
    "!pip install --upgrade keras # on lambda stack we need to upgrade keras\n",
    "!pip uninstall -y torchtext # on colab we need to remove torchtext"
   ]
  },
  {
   "cell_type": "code",
   "execution_count": null,
   "id": "3c0a43b5",
   "metadata": {},
   "outputs": [],
   "source": [
    "!pip install huggingface_hub\n",
    "from huggingface_hub import notebook_login\n",
    "\n",
    "notebook_login()"
   ]
  },
  {
   "cell_type": "code",
   "execution_count": null,
   "id": "6baaeaa0",
   "metadata": {},
   "outputs": [],
   "source": [
    "!nvidia-smi"
   ]
  },
  {
   "cell_type": "code",
   "execution_count": null,
   "id": "1601b90b",
   "metadata": {},
   "outputs": [],
   "source": [
    "import torch\n",
    "torch.cuda.is_available()"
   ]
  },
  {
   "cell_type": "code",
   "execution_count": null,
   "id": "08c7411e",
   "metadata": {},
   "outputs": [],
   "source": [
    "# Check the dataset\n",
    "'''\n",
    "1. You need to upload your dataset in huggingface with .parquet file\n",
    "    (you can make parquet file using open_parquet.ipynb)\n",
    "    \n",
    "2. You need to make dataset_infos.json\n",
    "    (I dont know how to make it exactly, but i'm handwritting that)\n",
    "    \n",
    "3. load_dataset with under code\n",
    "\n",
    "* \"HoneyTylenol/lego_face_final\" data is private data. \n",
    "'''\n",
    "from datasets import load_dataset\n",
    "ds = load_dataset(\"HoneyTylenol/lego_face_final\", split=\"train\")\n",
    "sample = ds[0]\n",
    "display(sample[\"image\"].resize((256, 256)))\n",
    "print(sample[\"text\"])"
   ]
  },
  {
   "cell_type": "code",
   "execution_count": null,
   "id": "9d7b2c74",
   "metadata": {},
   "outputs": [],
   "source": [
    "from huggingface_hub import hf_hub_download\n",
    "ckpt_path = hf_hub_download(repo_id=\"CompVis/stable-diffusion-v-1-4-original\", filename=\"sd-v1-4-full-ema.ckpt\", use"
   ]
  },
  {
   "cell_type": "code",
   "execution_count": null,
   "id": "f67dacd3",
   "metadata": {},
   "outputs": [],
   "source": [
    "# A100\n",
    "BATCH_SIZE = 2\n",
    "N_GPUS = 1\n",
    "\n",
    "gpu_list = \",\".join((str(x) for x in range(N_GPUS))) + \",\"\n",
    "print(f\"Using GPUs: {gpu_list}\")"
   ]
  },
  {
   "cell_type": "code",
   "execution_count": null,
   "id": "8ce2baa3",
   "metadata": {},
   "outputs": [],
   "source": [
    "# Run training\n",
    "!(python main.py \\\n",
    "    -t \\\n",
    "    --base configs/stable-diffusion/lego.yaml \\\n",
    "    --gpus \"$gpu_list\" \\\n",
    "    --scale_lr False \\\n",
    "    --num_nodes 1 \\\n",
    "    --check_val_every_n_epoch 10 \\\n",
    "    --finetune_from \"$ckpt_path\" \\\n",
    "    data.params.batch_size=\"$BATCH_SIZE\" \\\n",
    ")"
   ]
  },
  {
   "cell_type": "code",
   "execution_count": null,
   "id": "26bcc25e",
   "metadata": {},
   "outputs": [],
   "source": [
    "# Run the model\n",
    "!(python scripts/txt2img.py \\\n",
    "    --prompt 'robotic cat with wings' \\\n",
    "    --outdir 'outputs/generated_pokemon' \\\n",
    "    --H 512 --W 512 \\\n",
    "    --n_samples 4 \\\n",
    "    --config 'configs/stable-diffusion/pokemon.yaml' \\\n",
    "    --ckpt 'path/to/your/checkpoint')"
   ]
  }
 ],
 "metadata": {
  "kernelspec": {
   "display_name": "Python 3 (ipykernel)",
   "language": "python",
   "name": "python3"
  },
  "language_info": {
   "codemirror_mode": {
    "name": "ipython",
    "version": 3
   },
   "file_extension": ".py",
   "mimetype": "text/x-python",
   "name": "python",
   "nbconvert_exporter": "python",
   "pygments_lexer": "ipython3",
   "version": "3.8.13"
  }
 },
 "nbformat": 4,
 "nbformat_minor": 5
}
